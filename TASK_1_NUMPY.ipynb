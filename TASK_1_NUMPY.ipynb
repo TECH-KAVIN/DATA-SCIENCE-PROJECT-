{
  "nbformat": 4,
  "nbformat_minor": 0,
  "metadata": {
    "colab": {
      "provenance": [],
      "authorship_tag": "ABX9TyOIryDsdItm10DL2YKhvifF",
      "include_colab_link": true
    },
    "kernelspec": {
      "name": "python3",
      "display_name": "Python 3"
    },
    "language_info": {
      "name": "python"
    }
  },
  "cells": [
    {
      "cell_type": "markdown",
      "metadata": {
        "id": "view-in-github",
        "colab_type": "text"
      },
      "source": [
        "<a href=\"https://colab.research.google.com/github/TECH-KAVIN/DATA-SCIENCE-PROJECT-/blob/main/TASK_1_NUMPY.ipynb\" target=\"_parent\"><img src=\"https://colab.research.google.com/assets/colab-badge.svg\" alt=\"Open In Colab\"/></a>"
      ]
    },
    {
      "cell_type": "code",
      "execution_count": null,
      "metadata": {
        "id": "vSBcikCG5YNk"
      },
      "outputs": [],
      "source": [
        "import numpy as np"
      ]
    },
    {
      "cell_type": "markdown",
      "source": [
        "##Creating Arrays :"
      ],
      "metadata": {
        "id": "FMr9QDak51A0"
      }
    },
    {
      "cell_type": "code",
      "source": [
        "#Creating an arrsy\n",
        "A=np.array([[1,2,3],[4,5,6],[7,8,9]])\n",
        "B=np.array([[3,2,1],[6,5,4,],[9,8,7]])\n",
        "print('A\\n',A,'\\n B\\n',B)\n",
        "#Create an array of zeros\n",
        "print('Zeros : ',np.zeros((3,3)))\n",
        "#Create an array of ones\n",
        "print('Ones : ',np.ones(5))\n",
        "#Create an array with a range of values\n",
        "print('Range of Array : ',np.array(np.arange(1,6)))\n",
        "#Create an array with evenly spaced values.\n",
        "print('Linspace : ',np.linspace(5,10,3))\n",
        "#Create an identity matrix.\n",
        "print('Identical matrix : ',np.eye(4))"
      ],
      "metadata": {
        "colab": {
          "base_uri": "https://localhost:8080/"
        },
        "id": "RD571AhJ5y66",
        "outputId": "0c33698f-541c-47c9-cbe5-d4bd433a3175"
      },
      "execution_count": null,
      "outputs": [
        {
          "output_type": "stream",
          "name": "stdout",
          "text": [
            "A\n",
            " [[1 2 3]\n",
            " [4 5 6]\n",
            " [7 8 9]] \n",
            " B\n",
            " [[3 2 1]\n",
            " [6 5 4]\n",
            " [9 8 7]]\n",
            "Zeros :  [[0. 0. 0.]\n",
            " [0. 0. 0.]\n",
            " [0. 0. 0.]]\n",
            "Ones :  [1. 1. 1. 1. 1.]\n",
            "Range of Array :  [1 2 3 4 5]\n",
            "Linspace :  [ 5.   7.5 10. ]\n",
            "Identical matrix :  [[1. 0. 0. 0.]\n",
            " [0. 1. 0. 0.]\n",
            " [0. 0. 1. 0.]\n",
            " [0. 0. 0. 1.]]\n"
          ]
        }
      ]
    },
    {
      "cell_type": "markdown",
      "source": [
        "##Array Information:"
      ],
      "metadata": {
        "id": "Rs4TE0ZO6ASQ"
      }
    },
    {
      "cell_type": "code",
      "source": [
        "#Returns the dimensions of the array\n",
        "print(\"Shape : \",A.shape)\n",
        "#Returns the number of dimensions\n",
        "print(\"dimension : \",A.ndim)\n",
        "#Returns the total number of elements\n",
        "print(\"Size : \",A.size)\n",
        "#Returns the data type of elements\n",
        "print (\"datatype : \",A.dtype)"
      ],
      "metadata": {
        "colab": {
          "base_uri": "https://localhost:8080/"
        },
        "id": "Kr6JCw8657MO",
        "outputId": "a206cb96-b3bf-4b42-fc4c-9fb935e00210"
      },
      "execution_count": null,
      "outputs": [
        {
          "output_type": "stream",
          "name": "stdout",
          "text": [
            "Shape :  (3, 3)\n",
            "dimension :  2\n",
            "Size :  9\n",
            "datatype :  int64\n"
          ]
        }
      ]
    },
    {
      "cell_type": "markdown",
      "source": [
        "##Array Operations:"
      ],
      "metadata": {
        "id": "Zo6uBLxx6Jgt"
      }
    },
    {
      "cell_type": "code",
      "source": [
        "#Element-wise addition.\n",
        "print(\"Add : \",np.add(A,B))\n",
        "#Element-wise subtraction.\n",
        "print(\"Sub : \",np.subtract(A,B))\n",
        "# Element-wise multiplication.\n",
        "print(\"Multi : \",np.multiply(A,B))\n",
        "# Element-wise division.\n",
        "print(\"Divide : \",np.divide(A,B))\n",
        "#Dot product of two arrays.\n",
        "print(\"Dot : \",np.dot(A,B))"
      ],
      "metadata": {
        "colab": {
          "base_uri": "https://localhost:8080/"
        },
        "id": "4JwI3dWv6FVo",
        "outputId": "744b7e26-43fc-4cde-bc75-6fedf87181f8"
      },
      "execution_count": null,
      "outputs": [
        {
          "output_type": "stream",
          "name": "stdout",
          "text": [
            "Add :  [[ 4  4  4]\n",
            " [10 10 10]\n",
            " [16 16 16]]\n",
            "Sub :  [[-2  0  2]\n",
            " [-2  0  2]\n",
            " [-2  0  2]]\n",
            "Multi :  [[ 3  4  3]\n",
            " [24 25 24]\n",
            " [63 64 63]]\n",
            "Divide :  [[0.33333333 1.         3.        ]\n",
            " [0.66666667 1.         1.5       ]\n",
            " [0.77777778 1.         1.28571429]]\n",
            "Dot :  [[ 42  36  30]\n",
            " [ 96  81  66]\n",
            " [150 126 102]]\n"
          ]
        }
      ]
    },
    {
      "cell_type": "markdown",
      "source": [
        "##Array Manipulation:"
      ],
      "metadata": {
        "id": "fne1WB8Z6RXZ"
      }
    },
    {
      "cell_type": "code",
      "source": [
        "# Reshape an array.\n",
        "print('Reshape Array : ',np.arange(25).reshape(5,5))\n",
        "#Concatenate arrays.\n",
        "print('Concatenate : ',np.concatenate((A,B)))\n",
        "# Transpose an array.\n",
        "print('Transpose Array : ',np.transpose(A))\n",
        "#Split an array into sub-arrays.\n",
        "print('Array Spliting : ',np.split(A,3))"
      ],
      "metadata": {
        "colab": {
          "base_uri": "https://localhost:8080/"
        },
        "id": "07ANyhwP6O90",
        "outputId": "84643808-6686-4787-ba09-3e41d6a80286"
      },
      "execution_count": null,
      "outputs": [
        {
          "output_type": "stream",
          "name": "stdout",
          "text": [
            "Reshape Array :  [[ 0  1  2  3  4]\n",
            " [ 5  6  7  8  9]\n",
            " [10 11 12 13 14]\n",
            " [15 16 17 18 19]\n",
            " [20 21 22 23 24]]\n",
            "Concatenate :  [[1 2 3]\n",
            " [4 5 6]\n",
            " [7 8 9]\n",
            " [3 2 1]\n",
            " [6 5 4]\n",
            " [9 8 7]]\n",
            "Transpose Array :  [[1 4 7]\n",
            " [2 5 8]\n",
            " [3 6 9]]\n",
            "Array Spliting :  [array([[1, 2, 3]]), array([[4, 5, 6]]), array([[7, 8, 9]])]\n"
          ]
        }
      ]
    },
    {
      "cell_type": "markdown",
      "source": [
        "##Mathematical Functions:"
      ],
      "metadata": {
        "id": "jLF2tLyg6YFu"
      }
    },
    {
      "cell_type": "code",
      "source": [
        "#Sum of array elements.\n",
        "print('Sum : ',np.sum(A))\n",
        "#Mean value of array\n",
        "print('Mean : ',np.mean(A))\n",
        "#Median of the array\n",
        "print('Median : ',np.median(A))\n",
        "#Standard deviation.\n",
        "print('Standard Deviation : ',np.std(A))\n",
        "#Maxmimum value\n",
        "print('Maxmimum Value : ',np.max(A))\n",
        "#Minimum value\n",
        "print('Minimum Value : ',np.min(A))"
      ],
      "metadata": {
        "colab": {
          "base_uri": "https://localhost:8080/"
        },
        "id": "3Y4JgKZV6VjE",
        "outputId": "048a8205-852f-425b-fee8-19be87b42ac8"
      },
      "execution_count": null,
      "outputs": [
        {
          "output_type": "stream",
          "name": "stdout",
          "text": [
            "Sum :  45\n",
            "Mean :  5.0\n",
            "Median :  5.0\n",
            "Standard Deviation :  2.581988897471611\n",
            "Maxmimum Value :  9\n",
            "Minimum Value :  1\n"
          ]
        }
      ]
    },
    {
      "cell_type": "markdown",
      "source": [
        "##Trigonometric Functions:"
      ],
      "metadata": {
        "id": "YLKWw-KP6fcJ"
      }
    },
    {
      "cell_type": "code",
      "source": [
        "#Sin of Array\n",
        "print('Sin of Array : ',np.sin(A))\n",
        "#Cos of Array\n",
        "print('Cos of Array : ',np.cos(A))\n",
        "#Tan of Array\n",
        "print('Tan of Array : ',np.tan(A))"
      ],
      "metadata": {
        "colab": {
          "base_uri": "https://localhost:8080/"
        },
        "id": "J20CLKhJ6cpx",
        "outputId": "d40536a8-16ba-473b-ca05-c57de0bcbe70"
      },
      "execution_count": null,
      "outputs": [
        {
          "output_type": "stream",
          "name": "stdout",
          "text": [
            "Sin of Array :  [[ 0.84147098  0.90929743  0.14112001]\n",
            " [-0.7568025  -0.95892427 -0.2794155 ]\n",
            " [ 0.6569866   0.98935825  0.41211849]]\n",
            "Cos of Array :  [[ 0.54030231 -0.41614684 -0.9899925 ]\n",
            " [-0.65364362  0.28366219  0.96017029]\n",
            " [ 0.75390225 -0.14550003 -0.91113026]]\n",
            "Tan of Array :  [[ 1.55740772 -2.18503986 -0.14254654]\n",
            " [ 1.15782128 -3.38051501 -0.29100619]\n",
            " [ 0.87144798 -6.79971146 -0.45231566]]\n"
          ]
        }
      ]
    },
    {
      "cell_type": "markdown",
      "source": [
        "##Inverse trigonometric functions."
      ],
      "metadata": {
        "id": "VFvY9NUc6uIh"
      }
    },
    {
      "cell_type": "code",
      "source": [
        "#inverse of sin\n",
        "print('Inverse of sin : ',np.arcsin(A))\n",
        "#Inverse of cos\n",
        "print('Inverse of cos : ',np.arccos(A))\n",
        "#Inverse of tan\n",
        "print('Inverse of tan : ',np.arctan(A))"
      ],
      "metadata": {
        "colab": {
          "base_uri": "https://localhost:8080/"
        },
        "id": "ejZBaVVH6k3s",
        "outputId": "ddfb3615-7a8c-4e54-abee-7bbd1a3b9b19"
      },
      "execution_count": null,
      "outputs": [
        {
          "output_type": "stream",
          "name": "stdout",
          "text": [
            "Inverse of sin :  [[1.57079633        nan        nan]\n",
            " [       nan        nan        nan]\n",
            " [       nan        nan        nan]]\n",
            "Inverse of cos :  [[ 0. nan nan]\n",
            " [nan nan nan]\n",
            " [nan nan nan]]\n",
            "Inverse of tan :  [[0.78539816 1.10714872 1.24904577]\n",
            " [1.32581766 1.37340077 1.40564765]\n",
            " [1.42889927 1.44644133 1.46013911]]\n"
          ]
        },
        {
          "output_type": "stream",
          "name": "stderr",
          "text": [
            "<ipython-input-8-b550f625e09e>:2: RuntimeWarning: invalid value encountered in arcsin\n",
            "  print('Inverse of sin : ',np.arcsin(A))\n",
            "<ipython-input-8-b550f625e09e>:4: RuntimeWarning: invalid value encountered in arccos\n",
            "  print('Inverse of cos : ',np.arccos(A))\n"
          ]
        }
      ]
    },
    {
      "cell_type": "markdown",
      "source": [
        "##Random function"
      ],
      "metadata": {
        "id": "wNixTfBC6z-z"
      }
    },
    {
      "cell_type": "code",
      "source": [
        "#Random\n",
        "A=np.random.rand(2,3)\n",
        "print('random : ',A)\n",
        "B=np.random.randint(1,10,5)\n",
        "print('random int : ',B)\n",
        "np.random.shuffle(B)\n",
        "print('shuffled array : ',B)"
      ],
      "metadata": {
        "colab": {
          "base_uri": "https://localhost:8080/"
        },
        "id": "FniZbn9m6x_r",
        "outputId": "0b9d1bb5-eb0d-41d2-9cb6-47673b51ea7f"
      },
      "execution_count": null,
      "outputs": [
        {
          "output_type": "stream",
          "name": "stdout",
          "text": [
            "random :  [[0.78586681 0.06250043 0.64022543]\n",
            " [0.10524181 0.50692171 0.8979953 ]]\n",
            "random int :  [3 2 8 4 1]\n",
            "shuffled array :  [3 4 8 1 2]\n"
          ]
        }
      ]
    },
    {
      "cell_type": "markdown",
      "source": [
        "##Statistical Functions:"
      ],
      "metadata": {
        "id": "Ti6QP_zh69ls"
      }
    },
    {
      "cell_type": "code",
      "source": [
        "#Percentile\n",
        "print('Percentile : ',np.percentile(B,A))\n",
        "#Corelation Coefficient\n",
        "print('Corelation Coefficient : ',np.corrcoef(A))"
      ],
      "metadata": {
        "colab": {
          "base_uri": "https://localhost:8080/"
        },
        "id": "RILEqm8n662-",
        "outputId": "5353092e-67b1-43cb-e11d-7e5cd0b31dc3"
      },
      "execution_count": null,
      "outputs": [
        {
          "output_type": "stream",
          "name": "stdout",
          "text": [
            "Percentile :  [[1.03143467 1.00250002 1.02560902]\n",
            " [1.00420967 1.02027687 1.03591981]]\n",
            "Corelation Coefficient :  [[ 1.         -0.19791493]\n",
            " [-0.19791493  1.        ]]\n"
          ]
        }
      ]
    },
    {
      "cell_type": "markdown",
      "source": [
        "##Linear Algebra:"
      ],
      "metadata": {
        "id": "TGlP-BsZ7W-E"
      }
    },
    {
      "cell_type": "code",
      "source": [
        "C = np.array([[6, 1, 1],\n",
        "              [4, -2, 5],\n",
        "              [2, 8, 7]])\n",
        "\n",
        "# Calculating the inverse of the matrix\n",
        "print('Inverse of matrix : ',np.linalg.inv(C))\n",
        "#Determinant of a matrix.\n",
        "print('Determinant of matrix : ',np.linalg.det(C))\n",
        "#Eigenvalues and eigenvectors.\n",
        "print('Eigenvalues and eigenvectors. : ',np.linalg.eig(C))"
      ],
      "metadata": {
        "colab": {
          "base_uri": "https://localhost:8080/"
        },
        "id": "P5k5LQ_O7SkH",
        "outputId": "313ff50d-6ea1-4f77-8435-26618767318d"
      },
      "execution_count": null,
      "outputs": [
        {
          "output_type": "stream",
          "name": "stdout",
          "text": [
            "Inverse of matrix :  [[ 0.17647059 -0.00326797 -0.02287582]\n",
            " [ 0.05882353 -0.13071895  0.08496732]\n",
            " [-0.11764706  0.1503268   0.05228758]]\n",
            "Determinant of matrix :  -306.0\n",
            "Eigenvalues and eigenvectors. :  (array([11.24862343,  5.09285054, -5.34147398]), array([[ 0.24511338,  0.75669314,  0.02645665],\n",
            "       [ 0.40622202, -0.03352363, -0.84078293],\n",
            "       [ 0.88028581, -0.65291014,  0.54072554]]))\n"
          ]
        }
      ]
    },
    {
      "cell_type": "code",
      "source": [
        "#Sorting\n",
        "print('Sorting of array  : ',np.sort(C))"
      ],
      "metadata": {
        "colab": {
          "base_uri": "https://localhost:8080/"
        },
        "id": "AxjhMVBt7bYv",
        "outputId": "49840fad-ca03-4de3-ddc6-9b808bf24340"
      },
      "execution_count": null,
      "outputs": [
        {
          "output_type": "stream",
          "name": "stdout",
          "text": [
            "Sorting of array  :  [[ 1  1  6]\n",
            " [-2  4  5]\n",
            " [ 2  7  8]]\n"
          ]
        }
      ]
    },
    {
      "cell_type": "markdown",
      "source": [
        "##File Input/Output:"
      ],
      "metadata": {
        "id": "EhfwiGeJ7n9W"
      }
    },
    {
      "cell_type": "code",
      "source": [
        "from tempfile import TemporaryFile\n",
        "fl= TemporaryFile()"
      ],
      "metadata": {
        "id": "xU9dDIE27hEA"
      },
      "execution_count": null,
      "outputs": []
    },
    {
      "cell_type": "code",
      "source": [
        "# Save an array to a binary file.\n",
        "np.save(fl,A)\n",
        "print('file saved ')"
      ],
      "metadata": {
        "colab": {
          "base_uri": "https://localhost:8080/"
        },
        "id": "sOIHCCiF7r4b",
        "outputId": "5edf0a91-858f-4dc9-d5d7-9099b4ef690d"
      },
      "execution_count": null,
      "outputs": [
        {
          "output_type": "stream",
          "name": "stdout",
          "text": [
            "file saved \n"
          ]
        }
      ]
    },
    {
      "cell_type": "code",
      "source": [
        "# Load an array from a binary file.\n",
        "fl.seek(0)\n",
        "print('Loaded file : ',np.load(fl))"
      ],
      "metadata": {
        "colab": {
          "base_uri": "https://localhost:8080/"
        },
        "id": "KobWEFaQ7uMS",
        "outputId": "913fa3c5-8aa5-4062-873d-a5d4107bde06"
      },
      "execution_count": null,
      "outputs": [
        {
          "output_type": "stream",
          "name": "stdout",
          "text": [
            "Loaded file :  [[0.78586681 0.06250043 0.64022543]\n",
            " [0.10524181 0.50692171 0.8979953 ]]\n"
          ]
        }
      ]
    },
    {
      "cell_type": "markdown",
      "source": [
        "#***THE END***"
      ],
      "metadata": {
        "id": "5q18gA-J7yoh"
      }
    }
  ]
}