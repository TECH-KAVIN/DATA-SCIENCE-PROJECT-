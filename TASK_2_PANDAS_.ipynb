{
  "nbformat": 4,
  "nbformat_minor": 0,
  "metadata": {
    "colab": {
      "provenance": [],
      "authorship_tag": "ABX9TyP13gfiEN8vHULQQp/twOh7",
      "include_colab_link": true
    },
    "kernelspec": {
      "name": "python3",
      "display_name": "Python 3"
    },
    "language_info": {
      "name": "python"
    }
  },
  "cells": [
    {
      "cell_type": "markdown",
      "metadata": {
        "id": "view-in-github",
        "colab_type": "text"
      },
      "source": [
        "<a href=\"https://colab.research.google.com/github/TECH-KAVIN/DATA-SCIENCE-PROJECT-/blob/main/TASK_2_PANDAS_.ipynb\" target=\"_parent\"><img src=\"https://colab.research.google.com/assets/colab-badge.svg\" alt=\"Open In Colab\"/></a>"
      ]
    },
    {
      "cell_type": "code",
      "execution_count": null,
      "metadata": {
        "id": "N9hY_mU17b6H"
      },
      "outputs": [],
      "source": [
        "import numpy as np"
      ]
    },
    {
      "cell_type": "code",
      "source": [
        "#Creating an arrsy\n",
        "A=np.array([[1,2,3],[4,5,6],[7,8,9]])\n",
        "B=np.array([[3,2,1],[6,5,4,],[9,8,7]])\n",
        "print('A\\n',A,'\\n B\\n',B)\n",
        "#Create an array of zeros\n",
        "print('Zeros : ',np.zeros((3,3)))\n",
        "#Create an array of ones\n",
        "print('Ones : ',np.ones(5))\n",
        "#Create an array with a range of values\n",
        "print('Range of Array : ',np.array(np.arange(1,6)))\n",
        "#Create an array with evenly spaced values.\n",
        "print('Linspace : ',np.linspace(5,10,3))\n",
        "#Create an identity matrix.\n",
        "print('Identical matrix : ',np.eye(4))"
      ],
      "metadata": {
        "colab": {
          "base_uri": "https://localhost:8080/"
        },
        "id": "WbX5DMYF7lwm",
        "outputId": "44c03030-eb5a-484c-ff67-a354969992dc"
      },
      "execution_count": null,
      "outputs": [
        {
          "output_type": "stream",
          "name": "stdout",
          "text": [
            "A\n",
            " [[1 2 3]\n",
            " [4 5 6]\n",
            " [7 8 9]] \n",
            " B\n",
            " [[3 2 1]\n",
            " [6 5 4]\n",
            " [9 8 7]]\n",
            "Zeros :  [[0. 0. 0.]\n",
            " [0. 0. 0.]\n",
            " [0. 0. 0.]]\n",
            "Ones :  [1. 1. 1. 1. 1.]\n",
            "Range of Array :  [1 2 3 4 5]\n",
            "Linspace :  [ 5.   7.5 10. ]\n",
            "Identical matrix :  [[1. 0. 0. 0.]\n",
            " [0. 1. 0. 0.]\n",
            " [0. 0. 1. 0.]\n",
            " [0. 0. 0. 1.]]\n"
          ]
        }
      ]
    },
    {
      "cell_type": "markdown",
      "source": [
        "##Array Information'"
      ],
      "metadata": {
        "id": "igKq1tCN7uab"
      }
    },
    {
      "cell_type": "code",
      "source": [
        "#Returns the dimensions of the array\n",
        "print(\"Shape : \",A.shape)\n",
        "#Returns the number of dimensions\n",
        "print(\"dimension : \",A.ndim)\n",
        "#Returns the total number of elements\n",
        "print(\"Size : \",A.size)\n",
        "#Returns the data type of elements\n",
        "print (\"datatype : \",A.dtype)"
      ],
      "metadata": {
        "colab": {
          "base_uri": "https://localhost:8080/"
        },
        "id": "HApQWKEC7s95",
        "outputId": "1ac14200-ed75-4cf3-e4be-4a231eb5370c"
      },
      "execution_count": null,
      "outputs": [
        {
          "output_type": "stream",
          "name": "stdout",
          "text": [
            "Shape :  (3, 3)\n",
            "dimension :  2\n",
            "Size :  9\n",
            "datatype :  int64\n"
          ]
        }
      ]
    },
    {
      "cell_type": "code",
      "source": [
        "#Element-wise addition.\n",
        "print(\"Add : \",np.add(A,B))\n",
        "#Element-wise subtraction.\n",
        "print(\"Sub : \",np.subtract(A,B))\n",
        "# Element-wise multiplication.\n",
        "print(\"Multi : \",np.multiply(A,B))\n",
        "# Element-wise division.\n",
        "print(\"Divide : \",np.divide(A,B))\n",
        "#Dot product of two arrays.\n",
        "print(\"Dot : \",np.dot(A,B))"
      ],
      "metadata": {
        "colab": {
          "base_uri": "https://localhost:8080/"
        },
        "id": "GEyAe4il71ld",
        "outputId": "d99af3c0-90ee-4f23-c27f-cb15aa62c019"
      },
      "execution_count": null,
      "outputs": [
        {
          "output_type": "stream",
          "name": "stdout",
          "text": [
            "Add :  [[ 4  4  4]\n",
            " [10 10 10]\n",
            " [16 16 16]]\n",
            "Sub :  [[-2  0  2]\n",
            " [-2  0  2]\n",
            " [-2  0  2]]\n",
            "Multi :  [[ 3  4  3]\n",
            " [24 25 24]\n",
            " [63 64 63]]\n",
            "Divide :  [[0.33333333 1.         3.        ]\n",
            " [0.66666667 1.         1.5       ]\n",
            " [0.77777778 1.         1.28571429]]\n",
            "Dot :  [[ 42  36  30]\n",
            " [ 96  81  66]\n",
            " [150 126 102]]\n"
          ]
        }
      ]
    },
    {
      "cell_type": "markdown",
      "source": [
        "##Array Manipulation:"
      ],
      "metadata": {
        "id": "pj4Ww4ls77cA"
      }
    },
    {
      "cell_type": "code",
      "source": [
        "# Reshape an array.\n",
        "print('Reshape Array : ',np.arange(25).reshape(5,5))\n",
        "#Concatenate arrays.\n",
        "print('Concatenate : ',np.concatenate((A,B)))\n",
        "# Transpose an array.\n",
        "print('Transpose Array : ',np.transpose(A))\n",
        "#Split an array into sub-arrays.\n",
        "print('Array Spliting : ',np.split(A,3))"
      ],
      "metadata": {
        "colab": {
          "base_uri": "https://localhost:8080/"
        },
        "id": "v4m_D-Th74qj",
        "outputId": "bb5a0695-a2c7-45f5-ab4a-6442af9b6ff6"
      },
      "execution_count": null,
      "outputs": [
        {
          "output_type": "stream",
          "name": "stdout",
          "text": [
            "Reshape Array :  [[ 0  1  2  3  4]\n",
            " [ 5  6  7  8  9]\n",
            " [10 11 12 13 14]\n",
            " [15 16 17 18 19]\n",
            " [20 21 22 23 24]]\n",
            "Concatenate :  [[1 2 3]\n",
            " [4 5 6]\n",
            " [7 8 9]\n",
            " [3 2 1]\n",
            " [6 5 4]\n",
            " [9 8 7]]\n",
            "Transpose Array :  [[1 4 7]\n",
            " [2 5 8]\n",
            " [3 6 9]]\n",
            "Array Spliting :  [array([[1, 2, 3]]), array([[4, 5, 6]]), array([[7, 8, 9]])]\n"
          ]
        }
      ]
    },
    {
      "cell_type": "markdown",
      "source": [
        "##Mathematical Function:\n",
        "\n",
        "\n",
        "\n"
      ],
      "metadata": {
        "id": "SWVLWklc8Eij"
      }
    },
    {
      "cell_type": "code",
      "source": [
        "#Sum of array elements.\n",
        "print('Sum : ',np.sum(A))\n",
        "#Mean value of array\n",
        "print('Mean : ',np.mean(A))\n",
        "#Median of the array\n",
        "print('Median : ',np.median(A))\n",
        "#Standard deviation.\n",
        "print('Standard Deviation : ',np.std(A))\n",
        "#Maxmimum value\n",
        "print('Maxmimum Value : ',np.max(A))\n",
        "#Minimum value\n",
        "print('Minimum Value : ',np.min(A))"
      ],
      "metadata": {
        "colab": {
          "base_uri": "https://localhost:8080/"
        },
        "id": "1qOcc46g8ATs",
        "outputId": "e2435650-8cad-49a8-843b-e75d21dcb599"
      },
      "execution_count": null,
      "outputs": [
        {
          "output_type": "stream",
          "name": "stdout",
          "text": [
            "Sum :  45\n",
            "Mean :  5.0\n",
            "Median :  5.0\n",
            "Standard Deviation :  2.581988897471611\n",
            "Maxmimum Value :  9\n",
            "Minimum Value :  1\n"
          ]
        }
      ]
    },
    {
      "cell_type": "markdown",
      "source": [
        "##Trigonometric Functions:"
      ],
      "metadata": {
        "id": "nGL2pbwb8Ro-"
      }
    },
    {
      "cell_type": "code",
      "source": [
        "#Sin of Array\n",
        "print('Sin of Array : ',np.sin(A))\n",
        "#Cos of Array\n",
        "print('Cos of Array : ',np.cos(A))\n",
        "#Tan of Array\n",
        "print('Tan of Array : ',np.tan(A))"
      ],
      "metadata": {
        "colab": {
          "base_uri": "https://localhost:8080/"
        },
        "id": "9nGbX-Zk8NgP",
        "outputId": "3ef4234a-2bda-4680-febf-9fb9e0c9f5fe"
      },
      "execution_count": null,
      "outputs": [
        {
          "output_type": "stream",
          "name": "stdout",
          "text": [
            "Sin of Array :  [[ 0.84147098  0.90929743  0.14112001]\n",
            " [-0.7568025  -0.95892427 -0.2794155 ]\n",
            " [ 0.6569866   0.98935825  0.41211849]]\n",
            "Cos of Array :  [[ 0.54030231 -0.41614684 -0.9899925 ]\n",
            " [-0.65364362  0.28366219  0.96017029]\n",
            " [ 0.75390225 -0.14550003 -0.91113026]]\n",
            "Tan of Array :  [[ 1.55740772 -2.18503986 -0.14254654]\n",
            " [ 1.15782128 -3.38051501 -0.29100619]\n",
            " [ 0.87144798 -6.79971146 -0.45231566]]\n"
          ]
        }
      ]
    },
    {
      "cell_type": "markdown",
      "source": [
        "##Inverse trigonometric functions."
      ],
      "metadata": {
        "id": "uJgIYT528gXe"
      }
    },
    {
      "cell_type": "code",
      "source": [
        "#inverse of sin\n",
        "print('Inverse of sin : ',np.arcsin(A))\n",
        "#Inverse of cos\n",
        "print('Inverse of cos : ',np.arccos(A))\n",
        "#Inverse of tan\n",
        "print('Inverse of tan : ',np.arctan(A))"
      ],
      "metadata": {
        "colab": {
          "base_uri": "https://localhost:8080/"
        },
        "id": "S8XXAsj28Yam",
        "outputId": "016ebf11-2c99-4c49-cd7d-99b9a287bd11"
      },
      "execution_count": null,
      "outputs": [
        {
          "output_type": "stream",
          "name": "stdout",
          "text": [
            "Inverse of sin :  [[1.57079633        nan        nan]\n",
            " [       nan        nan        nan]\n",
            " [       nan        nan        nan]]\n",
            "Inverse of cos :  [[ 0. nan nan]\n",
            " [nan nan nan]\n",
            " [nan nan nan]]\n",
            "Inverse of tan :  [[0.78539816 1.10714872 1.24904577]\n",
            " [1.32581766 1.37340077 1.40564765]\n",
            " [1.42889927 1.44644133 1.46013911]]\n"
          ]
        },
        {
          "output_type": "stream",
          "name": "stderr",
          "text": [
            "<ipython-input-8-b550f625e09e>:2: RuntimeWarning: invalid value encountered in arcsin\n",
            "  print('Inverse of sin : ',np.arcsin(A))\n",
            "<ipython-input-8-b550f625e09e>:4: RuntimeWarning: invalid value encountered in arccos\n",
            "  print('Inverse of cos : ',np.arccos(A))\n"
          ]
        }
      ]
    },
    {
      "cell_type": "markdown",
      "source": [
        "##\n",
        "Random function"
      ],
      "metadata": {
        "id": "6YnI_qBi8nyB"
      }
    },
    {
      "cell_type": "code",
      "source": [
        "#Random\n",
        "A=np.random.rand(2,3)\n",
        "print('random : ',A)\n",
        "B=np.random.randint(1,10,5)\n",
        "print('random int : ',B)\n",
        "np.random.shuffle(B)\n",
        "print('shuffled array : ',B)"
      ],
      "metadata": {
        "colab": {
          "base_uri": "https://localhost:8080/"
        },
        "id": "v1CqgNAI8k-9",
        "outputId": "908eac32-c390-46f8-f62f-db759337064d"
      },
      "execution_count": null,
      "outputs": [
        {
          "output_type": "stream",
          "name": "stdout",
          "text": [
            "random :  [[0.63627994 0.71241684 0.09222993]\n",
            " [0.18595694 0.6622042  0.72397504]]\n",
            "random int :  [3 7 4 8 2]\n",
            "shuffled array :  [2 4 7 3 8]\n"
          ]
        }
      ]
    },
    {
      "cell_type": "code",
      "source": [
        "#Percentile\n",
        "print('Percentile : ',np.percentile(B,A))\n",
        "#Corelation Coefficient\n",
        "print('Corelation Coefficient : ',np.corrcoef(A))"
      ],
      "metadata": {
        "colab": {
          "base_uri": "https://localhost:8080/"
        },
        "id": "_5TXRFtK8uGf",
        "outputId": "b2370577-913c-424a-90d4-2a690bb98902"
      },
      "execution_count": null,
      "outputs": [
        {
          "output_type": "stream",
          "name": "stdout",
          "text": [
            "Percentile :  [[2.0254512  2.02849667 2.0036892 ]\n",
            " [2.00743828 2.02648817 2.028959  ]]\n",
            "Corelation Coefficient :  [[ 1.         -0.49332348]\n",
            " [-0.49332348  1.        ]]\n"
          ]
        }
      ]
    },
    {
      "cell_type": "markdown",
      "source": [
        "##Linear Algebra"
      ],
      "metadata": {
        "id": "PBWXSDmQ807_"
      }
    },
    {
      "cell_type": "code",
      "source": [
        "C = np.array([[6, 1, 1],\n",
        "              [4, -2, 5],\n",
        "              [2, 8, 7]])\n",
        "\n",
        "# Calculating the inverse of the matrix\n",
        "print('Inverse of matrix : ',np.linalg.inv(C))\n",
        "#Determinant of a matrix.\n",
        "print('Determinant of matrix : ',np.linalg.det(C))\n",
        "#Eigenvalues and eigenvectors.\n",
        "print('Eigenvalues and eigenvectors. : ',np.linalg.eig(C))"
      ],
      "metadata": {
        "colab": {
          "base_uri": "https://localhost:8080/"
        },
        "id": "hxl1osBW8xOZ",
        "outputId": "4bd80a89-66e0-4ced-cb85-bcf113553aca"
      },
      "execution_count": null,
      "outputs": [
        {
          "output_type": "stream",
          "name": "stdout",
          "text": [
            "Inverse of matrix :  [[ 0.17647059 -0.00326797 -0.02287582]\n",
            " [ 0.05882353 -0.13071895  0.08496732]\n",
            " [-0.11764706  0.1503268   0.05228758]]\n",
            "Determinant of matrix :  -306.0\n",
            "Eigenvalues and eigenvectors. :  (array([11.24862343,  5.09285054, -5.34147398]), array([[ 0.24511338,  0.75669314,  0.02645665],\n",
            "       [ 0.40622202, -0.03352363, -0.84078293],\n",
            "       [ 0.88028581, -0.65291014,  0.54072554]]))\n"
          ]
        }
      ]
    },
    {
      "cell_type": "code",
      "source": [
        "#Sorting\n",
        "print('Sorting of array  : ',np.sort(C))"
      ],
      "metadata": {
        "colab": {
          "base_uri": "https://localhost:8080/"
        },
        "id": "9rEZ9LW985ea",
        "outputId": "9b76f215-4ab8-48ab-b016-d32c54731ce8"
      },
      "execution_count": null,
      "outputs": [
        {
          "output_type": "stream",
          "name": "stdout",
          "text": [
            "Sorting of array  :  [[ 1  1  6]\n",
            " [-2  4  5]\n",
            " [ 2  7  8]]\n"
          ]
        }
      ]
    },
    {
      "cell_type": "code",
      "source": [
        "from tempfile import TemporaryFile\n",
        "fl= TemporaryFile()"
      ],
      "metadata": {
        "id": "cEwEK_gI8-yO"
      },
      "execution_count": null,
      "outputs": []
    },
    {
      "cell_type": "code",
      "source": [
        "# Save an array to a binary file.\n",
        "np.save(fl,A)\n",
        "print('file saved ')"
      ],
      "metadata": {
        "colab": {
          "base_uri": "https://localhost:8080/"
        },
        "id": "_Tgo08cb9Btd",
        "outputId": "349e865e-0d20-4fbc-ce61-d85f882d125f"
      },
      "execution_count": null,
      "outputs": [
        {
          "output_type": "stream",
          "name": "stdout",
          "text": [
            "file saved \n"
          ]
        }
      ]
    },
    {
      "cell_type": "code",
      "source": [
        "# Load an array from a binary file.\n",
        "fl.seek(0)\n",
        "print('Loaded file : ',np.load(fl))"
      ],
      "metadata": {
        "colab": {
          "base_uri": "https://localhost:8080/"
        },
        "id": "N1xw00kg9FGh",
        "outputId": "2c1dd38b-8e57-48c5-c500-177ed9b9bcb8"
      },
      "execution_count": null,
      "outputs": [
        {
          "output_type": "stream",
          "name": "stdout",
          "text": [
            "Loaded file :  [[0.63627994 0.71241684 0.09222993]\n",
            " [0.18595694 0.6622042  0.72397504]]\n"
          ]
        }
      ]
    }
  ]
}